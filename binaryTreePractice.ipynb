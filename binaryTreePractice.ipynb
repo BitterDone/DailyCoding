{
 "cells": [
  {
   "cell_type": "code",
   "execution_count": 3,
   "metadata": {},
   "outputs": [],
   "source": [
    "# Today I'd like to give you some tips on how to solve tree-based interview questions. \n",
    "# Tree questions are very common at top tech company interviews. \n",
    "# I had two tree questions in my Google onsite interviews and one during my Facebook onsite interviews. \n",
    "# An awesome thing about them is that they can be formulaically solved every single time. \n",
    "# It doesn’t involve any genius insight. Let me show you how.\n",
    "\n",
    "# Instead of being too abstract, let’s just dive right into an easy binary tree question. \n",
    "# Then I’ll walk through how to solve it and we can go into a harder problem after:"
   ]
  },
  {
   "cell_type": "code",
   "execution_count": 4,
   "metadata": {},
   "outputs": [],
   "source": [
    "# Given the root to a binary tree, count the total number of nodes there are."
   ]
  },
  {
   "cell_type": "code",
   "execution_count": 5,
   "metadata": {},
   "outputs": [],
   "source": [
    "# Solving any binary tree question involves just two steps."
   ]
  },
  {
   "cell_type": "code",
   "execution_count": 6,
   "metadata": {},
   "outputs": [],
   "source": [
    "# # First is solving the base case. \n",
    "# This usually means solving the leaf node case \n",
    "# (a leaf node has no left or right children) \n",
    "# or the null case. \n",
    "# For the above problem, we can see that a null should represent 0 nodes \n",
    "# while a leaf node should represent 1 node."
   ]
  },
  {
   "cell_type": "code",
   "execution_count": 7,
   "metadata": {},
   "outputs": [],
   "source": [
    "# Second is the recursive step. \n",
    "# Assuming you knew the solution to the left subtree and the right subtree, \n",
    "# how could you combine the two results to give you the final solution? \n",
    "# It’s important to not get caught up on how this works \n",
    "# and just have faith that it works. \n",
    "# If you start tracing the recursion, you’re going to needlessly use up time and energy \n",
    "# during the interview. \n",
    "# Intuitively though, it works for similar reasons as why regular induction works. \n",
    "# P(0) or the base case works which causes P(1) or the leaf node to work\n",
    "# which causes P(2) to work and so on. \n",
    "# For this problem, it’s easy to combine the results of the left and right subtrees. \n",
    "# Just add the two numbers and then another 1 for the root. "
   ]
  },
  {
   "cell_type": "code",
   "execution_count": 8,
   "metadata": {},
   "outputs": [],
   "source": [
    "# Here’s the code:"
   ]
  },
  {
   "cell_type": "code",
   "execution_count": 9,
   "metadata": {},
   "outputs": [],
   "source": [
    "def count(node):\n",
    "  return count(node.left) + count(node.right) + 1 if node else 0"
   ]
  },
  {
   "cell_type": "code",
   "execution_count": 12,
   "metadata": {},
   "outputs": [],
   "source": [
    "# You certainly won’t get a question this easy but the process is the same for trickier problems. \n",
    "# Here’s another problem:"
   ]
  },
  {
   "cell_type": "code",
   "execution_count": 13,
   "metadata": {},
   "outputs": [],
   "source": [
    "# Given the root to a binary tree, return the deepest node."
   ]
  },
  {
   "cell_type": "code",
   "execution_count": 14,
   "metadata": {},
   "outputs": [],
   "source": [
    "# Base case for this question actually can’t be null, \n",
    "# because it’s not a real result that can be combined (null is not a node). \n",
    "# Here we should use the leaf node as the base case and return itself."
   ]
  },
  {
   "cell_type": "code",
   "execution_count": 15,
   "metadata": {},
   "outputs": [],
   "source": [
    "# The recursive step for this problem is a little bit different \n",
    "# because we can’t actually use the results of the left and right subtrees directly. \n",
    "# So we need to ask, what other information do we need to solve this question? \n",
    "# It turns out if we tagged with each subresult node their depths, \n",
    "# we could get the final solution by picking the higher depth leaf and then incrementing it:"
   ]
  },
  {
   "cell_type": "code",
   "execution_count": 16,
   "metadata": {},
   "outputs": [],
   "source": [
    "def deepest(node):\n",
    "    if node and not node.left and not node.right:\n",
    "        return (node, 1) # Leaf and its depth\n",
    "\n",
    "    if not node.left: # Then the deepest node is on the right subtree\n",
    "        return increment_depth(deepest(node.right))\n",
    "    elif not node.right: # Then the deepest node is on the left subtree\n",
    "        return increment_depth(deepest(node.left))\n",
    "\n",
    "    return increment_depth(\n",
    "            max(deepest(node.left), deepest(node.right),\n",
    "                    key=lambda x: x[1])) # Pick higher depth tuple and then increment its depth\n",
    "\n",
    "def increment_depth(node_depth_tuple):\n",
    "    node, depth = node_depth_tuple\n",
    "    return (node, depth + 1)"
   ]
  },
  {
   "cell_type": "code",
   "execution_count": 17,
   "metadata": {},
   "outputs": [],
   "source": [
    "# A binary tree has at most 2 children - right & left\n",
    "# Complete - Every layer has 2 children except perhaps the final layer\n",
    "# Full - every layer has 2 children (proper or plain)"
   ]
  },
  {
   "cell_type": "code",
   "execution_count": 34,
   "metadata": {},
   "outputs": [],
   "source": [
    "class Node(object):\n",
    "    def __init__(self, value):\n",
    "        self.value = value\n",
    "        self.left = None\n",
    "        self.right = None\n",
    "        \n",
    "class BinaryTree(object):\n",
    "    def __init__(self, root):\n",
    "        self.root = Node(root)\n",
    "        \n",
    "    # Depth-first - Pre, Post, In Order Traversal\n",
    "    # Pre-order - Start at root, move left until end, move right until end\n",
    "    def preorder(self, start, traversal):\n",
    "        if start:\n",
    "            traversal += (str(start.value) + \" - \")\n",
    "            traversal = self.preorder(start.left, traversal)\n",
    "#             traversal = self.preorder(start.right, traversal)\n",
    "        return traversal\n",
    "\n",
    "    def postorder(self, start, traversal):\n",
    "        if start:\n",
    "            traversal = self.postorder(start.left, traversal)\n",
    "            traversal = self.postorder(start.right, traversal)\n",
    "            traversal += (str(start.value) + \" - \")\n",
    "        return traversal\n",
    "    \n",
    "    def inorder(self, start, traversal):\n",
    "        if start:\n",
    "            traversal = self.postorder(start.left, traversal)\n",
    "            traversal += (str(start.value) + \" - \")\n",
    "            traversal = self.postorder(start.right, traversal)\n",
    "        return traversal"
   ]
  },
  {
   "cell_type": "code",
   "execution_count": 35,
   "metadata": {},
   "outputs": [],
   "source": [
    "    tree = BinaryTree(1)\n",
    "    tree.root.left = Node(2)\n",
    "    tree.root.right = Node(3)\n",
    "    tree.root.left.left = Node(4)\n",
    "    tree.root.left.right = Node(5)\n",
    "    tree.root.right.left = Node(6)\n",
    "    tree.root.right.right = Node(7)\n"
   ]
  },
  {
   "cell_type": "code",
   "execution_count": 36,
   "metadata": {},
   "outputs": [
    {
     "data": {
      "text/plain": [
       "'4 - 5 - 2 - 1 - 6 - 7 - 3 - '"
      ]
     },
     "execution_count": 36,
     "metadata": {},
     "output_type": "execute_result"
    }
   ],
   "source": [
    "tree.preorder(tree.root, \"\")\n",
    "tree.postorder(tree.root, \"\")\n",
    "tree.inorder(tree.root, \"\")"
   ]
  },
  {
   "cell_type": "code",
   "execution_count": null,
   "metadata": {},
   "outputs": [],
   "source": []
  }
 ],
 "metadata": {
  "kernelspec": {
   "display_name": "Python 3",
   "language": "python",
   "name": "python3"
  },
  "language_info": {
   "codemirror_mode": {
    "name": "ipython",
    "version": 3
   },
   "file_extension": ".py",
   "mimetype": "text/x-python",
   "name": "python",
   "nbconvert_exporter": "python",
   "pygments_lexer": "ipython3",
   "version": "3.7.3"
  }
 },
 "nbformat": 4,
 "nbformat_minor": 2
}
