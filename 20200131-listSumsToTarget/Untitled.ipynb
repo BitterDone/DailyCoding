{
 "cells": [
  {
   "cell_type": "code",
   "execution_count": null,
   "metadata": {},
   "outputs": [],
   "source": [
    "# This problem was recently asked by Google.\n",
    "# Given a list of numbers and a number k, return whether any two numbers from the list add up to k.\n",
    "# For example, given [10, 15, 3, 7] and k of 17, return true since 10 + 7 is 17.\n",
    "# Bonus: Can you do this in one pass?"
   ]
  },
  {
   "cell_type": "code",
   "execution_count": 5,
   "metadata": {},
   "outputs": [
    {
     "name": "stdout",
     "output_type": "stream",
     "text": [
      "True\n",
      "True\n",
      "False\n"
     ]
    }
   ],
   "source": [
    "# Brute force way would involve a nested iteration to check for every pair of numbers:\n",
    "# This would take O(N2)\n",
    "\n",
    "def two_sum(list, k):\n",
    "    for i in range(len(list)):\n",
    "        for j in range(len(list)):\n",
    "            if (i!=j and list[i]+list[j]==k):\n",
    "                return True\n",
    "    return False\n",
    "\n",
    "print(two_sum([10, 15, 3, 7], 17))\n",
    "print(two_sum([10, 15, 3, 7], 10))\n",
    "print(two_sum([10, 15, 3, 7], 11))"
   ]
  },
  {
   "cell_type": "code",
   "execution_count": 8,
   "metadata": {},
   "outputs": [
    {
     "name": "stdout",
     "output_type": "stream",
     "text": [
      "{10, 3, 15}\n",
      "True\n",
      "{10, 3, 15}\n",
      "True\n",
      "{10, 3, 7, 15}\n",
      "False\n"
     ]
    }
   ],
   "source": [
    "# Another way is to use a set to remember the numbers we've seen so far.\n",
    "# Then for a given number, we can check if there is another number that, if added, would sum to k.\n",
    "# This would be O(N) since lookups of sets are O(1) each.\n",
    "\n",
    "def two_sum2(list, k):\n",
    "    seen = set()\n",
    "    for num in list:\n",
    "        if k-num in seen:\n",
    "            print(seen)\n",
    "            return True\n",
    "        seen.add(num)\n",
    "    print(seen)\n",
    "    return False\n",
    "\n",
    "print(two_sum2([10, 15, 3, 7], 17))\n",
    "print(two_sum2([10, 15, 3, 7], 10))\n",
    "print(two_sum2([10, 15, 3, 7], 11))"
   ]
  },
  {
   "cell_type": "code",
   "execution_count": 23,
   "metadata": {},
   "outputs": [
    {
     "name": "stdout",
     "output_type": "stream",
     "text": [
      "\n",
      "K Target: 17\n",
      "unsorted: [10, 15, 3, 7]\n",
      "sorted  : [3, 7, 10, 15]\n",
      "\n",
      "i: 0, #: 3\n",
      "target: 14\n",
      "\n",
      "i: 1, #: 7\n",
      "target: 10\n",
      "True\n",
      "\n",
      "K Target: 10\n",
      "unsorted: [10, 15, 3, 7]\n",
      "sorted  : [3, 7, 10, 15]\n",
      "\n",
      "i: 0, #: 3\n",
      "target: 7\n",
      "True\n",
      "\n",
      "K Target: 11\n",
      "unsorted: [10, 15, 3, 7]\n",
      "sorted  : [3, 7, 10, 15]\n",
      "\n",
      "i: 0, #: 3\n",
      "target: 8\n",
      "\n",
      "i: 1, #: 7\n",
      "target: 4\n",
      "\n",
      "i: 2, #: 10\n",
      "target: 1\n",
      "\n",
      "i: 3, #: 15\n",
      "target: -4\n",
      "False\n"
     ]
    }
   ],
   "source": [
    "# Yet another solution involves sorting the list.\n",
    "# We can then iterate through the list and run a binary search on K - lst[i].\n",
    "# Since we run binary search on N elements, this would take O(N log N) with O(1) space.\n",
    "from bisect import bisect_left\n",
    "\n",
    "def two_sum3(list, k):\n",
    "    print('\\nK Target: ' + str(k))\n",
    "    print('unsorted: ' + str(list))\n",
    "    list.sort()\n",
    "    print('sorted  : ' + str(list))\n",
    "    for i in range(len(list)):\n",
    "        print('\\ni: ' + str(i) + ', #: ' + str(list[i]))\n",
    "        target = k-list[i]\n",
    "        print('target: ' + str(target))\n",
    "        j = binary_search(list, target)\n",
    "        \n",
    "        # Check that binary search found the target and it's not in the same index as i\n",
    "        # If it is, we can check list[i+1] and list[i-1] to see if there's another number\n",
    "        # the same value as list[i]\n",
    "        if j == -1:\n",
    "            continue\n",
    "        elif j != i:\n",
    "            return True\n",
    "        elif j+1 < len(list) and list[j+1] == target:\n",
    "            return True\n",
    "        elif j-1 >=0 and list[j-1] == target:\n",
    "            return True\n",
    "    return False\n",
    "\n",
    "def binary_search(list, target):\n",
    "    lo = 0\n",
    "    hi = len(list)\n",
    "    ind = bisect_left(list, target, lo, hi)\n",
    "    \n",
    "    if 0<= ind < hi and list[ind] == target:\n",
    "        return ind\n",
    "    return -1\n",
    "\n",
    "print(two_sum3([10, 15, 3, 7], 17))\n",
    "print(two_sum3([10, 15, 3, 7], 10))\n",
    "print(two_sum3([10, 15, 3, 7], 11))"
   ]
  },
  {
   "cell_type": "code",
   "execution_count": null,
   "metadata": {},
   "outputs": [],
   "source": []
  }
 ],
 "metadata": {
  "kernelspec": {
   "display_name": "Python 3",
   "language": "python",
   "name": "python3"
  },
  "language_info": {
   "codemirror_mode": {
    "name": "ipython",
    "version": 3
   },
   "file_extension": ".py",
   "mimetype": "text/x-python",
   "name": "python",
   "nbconvert_exporter": "python",
   "pygments_lexer": "ipython3",
   "version": "3.7.3"
  }
 },
 "nbformat": 4,
 "nbformat_minor": 2
}
