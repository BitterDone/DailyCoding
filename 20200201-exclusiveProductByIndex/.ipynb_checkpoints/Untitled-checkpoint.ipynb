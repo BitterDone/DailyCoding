{
 "cells": [
  {
   "cell_type": "code",
   "execution_count": 1,
   "metadata": {},
   "outputs": [],
   "source": [
    "# Given an array of integers, \n",
    "# return a new array such that \n",
    "# each element at index i of the new array \n",
    "# is the product of all the numbers in the original array \n",
    "# except the one at i.\n",
    "\n",
    "# For example, if our \n",
    "# input was [1, 2, 3, 4, 5], \n",
    "# the expected output would \n",
    "# be [120, 60, 40, 30, 24]. \n",
    "\n",
    "# If our input was [3, 2, 1], \n",
    "# the expected output would be [2, 3, 6].\n",
    "\n",
    "# Follow-up: what if you can't use division?"
   ]
  },
  {
   "cell_type": "code",
   "execution_count": 7,
   "metadata": {},
   "outputs": [],
   "source": [
    "i1 = [1, 2, 3, 4, 5]\n",
    "i2 = [3, 2, 1]\n",
    "\n",
    "def exclProd(list):\n",
    "    prod = 1\n",
    "    ret = []\n",
    "    for num in list:\n",
    "        prod *= num\n",
    "    for num in list:\n",
    "       ret.append(prod/num) \n",
    "    return ret\n",
    "\n",
    "# This problem would be easy with division: \n",
    "# an optimal solution could just find the product of all numbers in the array \n",
    "# and then divide by each of the numbers."
   ]
  },
  {
   "cell_type": "code",
   "execution_count": 9,
   "metadata": {},
   "outputs": [
    {
     "name": "stdout",
     "output_type": "stream",
     "text": [
      "[120.0, 60.0, 40.0, 30.0, 24.0]\n",
      "[2.0, 3.0, 6.0]\n"
     ]
    }
   ],
   "source": [
    "print(exclProd(i1))\n",
    "print(exclProd(i2))"
   ]
  },
  {
   "cell_type": "code",
   "execution_count": 10,
   "metadata": {},
   "outputs": [],
   "source": [
    "def exclProd2(list):\n",
    "    ret = []\n",
    "    for num in list:\n",
    "        prod = 1\n",
    "        for n in list:\n",
    "            if num == n:\n",
    "                continue\n",
    "            prod *= n\n",
    "        ret.append(prod)\n",
    "    return ret"
   ]
  },
  {
   "cell_type": "code",
   "execution_count": 12,
   "metadata": {},
   "outputs": [
    {
     "name": "stdout",
     "output_type": "stream",
     "text": [
      "[120, 60, 40, 30, 24]\n",
      "[2, 3, 6]\n"
     ]
    }
   ],
   "source": [
    "print(exclProd2(i1))\n",
    "print(exclProd2(i2))"
   ]
  },
  {
   "cell_type": "code",
   "execution_count": 17,
   "metadata": {},
   "outputs": [
    {
     "name": "stdout",
     "output_type": "stream",
     "text": [
      "([1, 2, 6, 24, 120], [120, 120, 60, 20, 5], [120, 60, 40, 30, 24])\n"
     ]
    }
   ],
   "source": [
    "# Without division, another approach would be to \n",
    "# first see that the ith element simply needs the product of numbers before i \n",
    "# and the product of numbers after i. \n",
    "# Then we could multiply those two numbers to get our desired product.\n",
    "\n",
    "# In order to find the product of numbers before i, \n",
    "# we can generate a list of prefix products. \n",
    "# Specifically, the ith element in the list would be a product of all numbers including i. \n",
    "# Similarly, we would generate the list of suffix products.\n",
    "\n",
    "def products(nums):\n",
    "    # Generate prefix products\n",
    "    prefix_products = []\n",
    "    for num in nums:\n",
    "        if prefix_products:\n",
    "            prefix_products.append(prefix_products[-1] * num)\n",
    "        else:\n",
    "            prefix_products.append(num)\n",
    "            \n",
    "    suffix_products = []\n",
    "    for num in reversed(nums):\n",
    "        if suffix_products:\n",
    "            suffix_products.append(suffix_products[-1] * num)\n",
    "        else:\n",
    "            suffix_products.append(num)\n",
    "    suffix_products = list(reversed(suffix_products))\n",
    "    \n",
    "    result = []\n",
    "    for i in range(len(nums)):\n",
    "        if i == 0:\n",
    "            result.append(suffix_products[i + 1])\n",
    "        elif i == len(nums) - 1:\n",
    "            result.append(prefix_products[i - 1])\n",
    "        else:\n",
    "            result.append(prefix_products[i - 1] * suffix_products[i + 1])\n",
    "\n",
    "    return prefix_products, suffix_products, result\n",
    "            \n",
    "print(products(i1))"
   ]
  },
  {
   "cell_type": "code",
   "execution_count": null,
   "metadata": {},
   "outputs": [],
   "source": []
  }
 ],
 "metadata": {
  "kernelspec": {
   "display_name": "Python 3",
   "language": "python",
   "name": "python3"
  },
  "language_info": {
   "codemirror_mode": {
    "name": "ipython",
    "version": 3
   },
   "file_extension": ".py",
   "mimetype": "text/x-python",
   "name": "python",
   "nbconvert_exporter": "python",
   "pygments_lexer": "ipython3",
   "version": "3.7.3"
  }
 },
 "nbformat": 4,
 "nbformat_minor": 2
}
